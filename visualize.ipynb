{
 "cells": [
  {
   "cell_type": "code",
   "execution_count": 1,
   "metadata": {},
   "outputs": [],
   "source": [
    "# https://github.com/shaohua0116/ICLR2020-OpenReviewData/blob/master/demo.ipynb\n",
    "import numpy as np\n",
    "import h5py\n",
    "import string\n",
    "import matplotlib.pyplot as plt \n",
    "import seaborn as sns\n",
    "import pandas as pd\n",
    "import time\n",
    "import glob\n",
    "from utils import crawl_meta, PaperMeta, Keyword\n",
    "%matplotlib inline"
   ]
  },
  {
   "cell_type": "code",
   "execution_count": 2,
   "metadata": {},
   "outputs": [],
   "source": [
    "CRAWL_DATA = True\n",
    "AFTER_DECISION = True\n",
    "CRAWL_REVIEW = False\n",
    "OLD_RATING = False"
   ]
  },
  {
   "cell_type": "code",
   "execution_count": null,
   "metadata": {},
   "outputs": [
    {
     "name": "stdout",
     "output_type": "stream",
     "text": [
      "[1] ratings: [], meta review len: 0] Adversarial Training With Voronoi Constraints by Marc Khoury, Dylan Hadfield-menell (withdrawn)\n",
      "[2] ratings: [3, 6, 3], meta review len: 132, decision: Reject] Towards Stable And Comprehensive Domain Alignment: Max-margin Domain-adversarial Training by Jianfei Yang, Han Zou, Yuxun Zhou, Lihua Xie\n",
      "[3] ratings: [6, 3, 3], meta review len: 55, decision: Reject] ``\"best-of-many-samples\" Distribution Matching by Apratim Bhattacharyya, Mario Fritz, Bernt Schiele\n",
      "[4] ratings: [], meta review len: 0] Deepobfuscode: Source Code Obfuscation Through Sequence-to-sequence Networks by Siddhartha Datta (desk_reject)\n",
      "[5] ratings: [6, 6, 6], meta review len: 21, decision: Accept (Poster)] Cm3: Cooperative Multi-goal Multi-stage Multi-agent Reinforcement Learning by Jiachen Yang, Alireza Nakhaei, David Isele, Kikuo Fujimura, Hongyuan Zha\n",
      "[6] ratings: [3, 8, 3], meta review len: 211, decision: Reject] Decoupling Weight Regularization From Batch Size For Model Compression by Dongsoo Lee, Se Jung Kwon, Byeongwook Kim, Yongkweon Jeon, Baeseong Park, Jeongin Yun, Gu-yeon Wei\n",
      "[7] ratings: [3, 1, 3], meta review len: 65, decision: Reject] Towards Scalable Imitation Learning For Multi-agent Systems With Graph Neural Networks by Siyu Zhou, Chaitanya Rajasekhar, Mariano J. Phielipp, Heni Ben Amor\n",
      "[8] ratings: [6, 8, 6], meta review len: 144, decision: Accept (Poster)] Neural Module Networks For Reasoning Over Text by Nitish Gupta, Kevin Lin, Dan Roth, Sameer Singh, Matt Gardner\n",
      "[9] ratings: [6, 3, 3, 6], meta review len: 143, decision: Reject] Attacking Graph Convolutional Networks Via Rewiring by Yao Ma, Suhang Wang, Tyler Derr, Lingfei Wu, Jiliang Tang\n",
      "[10] ratings: [6, 6, 6], meta review len: 80, decision: Accept (Poster)] Deep Audio Priors Emerge From Harmonic Convolutional Networks by Zhoutong Zhang, Yunyun Wang, Chuang Gan, Jiajun Wu, Joshua B. Tenenbaum, Antonio Torralba, William T. Freeman\n",
      "[11] ratings: [1, 8, 3], meta review len: 366, decision: Reject] Learning To Remember From A Multi-task Teacher by Yuwen Xiong, Mengye Ren, Raquel Urtasun\n",
      "[12] ratings: [1, 1, 1], meta review len: 61, decision: Reject] Zero-shot Policy Transfer With Disentangled Attention by Josh Roy, George Konidaris\n",
      "[13] ratings: [1, 3, 3], meta review len: 0] All Neural Networks Are Created Equal by Guy Hacohen, Leshem Choshen, Daphna Weinshall (withdrawn)\n",
      "[14] ratings: [1, 3, 1], meta review len: 83, decision: Reject] Evaluating And Calibrating Uncertainty Prediction In Regression Tasks by Dan Levi, Liran Gispan, Niv Giladi, Ethan Fetaya\n",
      "[15] ratings: [6, 8, 6], meta review len: 38, decision: Accept (Poster)] Training Generative Adversarial Networks From Incomplete Observations Using Factorised Discriminators by Daniel Stoller, Sebastian Ewert, Simon Dixon\n",
      "[16] ratings: [3, 3, 3], meta review len: 46, decision: Reject] Graphnvp: An Invertible Flow-based Model For Generating Molecular Graphs by Kaushalya Madhawa, Katsuhiko Ishiguro, Kosuke Nakago, Motoki Abe\n",
      "[17] ratings: [3, 1, 3], meta review len: 122, decision: Reject] Feature-robustness, Flatness And Generalization Error For Deep Neural Networks by Henning Petzka, Linara Adilova, Michael Kamp, Cristian Sminchisescu\n",
      "[18] ratings: [3, 3, 3], meta review len: 80, decision: Reject] Hyperparameter Tuning And Implicit Regularization In Minibatch Sgd by Samuel L Smith, Erich Elsen, Soham De\n",
      "[19] ratings: [6, 6, 3], meta review len: 72, decision: Accept (Poster)] Robust Anomaly Detection And Backdoor Attack Detection Via Differential Privacy by Min Du, Ruoxi Jia, Dawn Song\n",
      "[20] ratings: [6, 3, 6], meta review len: 127, decision: Reject] Vild: Variational Imitation Learning With Diverse-quality Demonstrations by Voot Tangkaratt, Bo Han, Mohammad Emtiyaz Khan, Masashi Sugiyama\n",
      "[21] ratings: [3, 1, 3], meta review len: 151, decision: Reject] Autoencoder-based Initialization For Recurrent Neural Networks With A Linear Memory by Antonio Carta, Alessandro Sperduti, Davide Bacciu\n",
      "[22] ratings: [8, 6, 6], meta review len: 37, decision: Accept (Poster)] You Can Teach An Old Dog New Tricks! On Training Knowledge Graph Embeddings by Daniel Ruffinelli, Samuel Broscheit, Rainer Gemulla\n",
      "[23] ratings: [3, 3], meta review len: 124, decision: Reject] Function Feature Learning Of Neural Networks by Guangcong Wang, Jianhuang Lai, Guangrun Wang, Wenqi Liang\n",
      "[24] ratings: [6, 6, 8], meta review len: 93, decision: Accept (Poster)] Variational Recurrent Models For Solving Partially Observable Control Tasks by Dongqi Han, Kenji Doya, Jun Tani\n",
      "[25] ratings: [1, 6, 6], meta review len: 0] Unrestricted Adversarial Attacks For Semantic Segmentation by Guangyu Shen, Chengzhi Mao, Junfeng Yang, Baishakhi Ray (withdrawn)\n",
      "[26] ratings: [3, 1, 1], meta review len: 151, decision: Reject] Event Extraction From Unstructured Amharic Text by Ephrem Tadesse, Rosa Tsegaye, Kuulaa Qaqqabaa\n",
      "[27] ratings: [3, 3, 3], meta review len: 132, decision: Reject] Nested Learning For Multi-granular Tasks by Raphaël Achddou, J. Matias Di Martino, Guillermo Sapiro\n",
      "[28] ratings: [1, 3, 1], meta review len: 69, decision: Reject] Lavae: Disentangling Location And Appearance by Andrea Dittadi, Ole Winther\n",
      "[29] ratings: [], meta review len: 0] Generative Integration Networks by Shohei Ohsawa (desk_reject)\n",
      "[30] ratings: [3, 3, 6], meta review len: 52, decision: Reject] Enforcing Physical Constraints In Neural Neural Networks Through Differentiable Pde Layer by Chiyu \"max\" Jiang, Karthik Kashinath, Prabhat, Philip Marcus\n",
      "[31] ratings: [6, 3, 3], meta review len: 0] Progressive Knowledge Distillation For Generative Modeling by Yu-xiong Wang, Adrien Bardes, Ruslan Salakhutdinov, Martial Hebert (withdrawn)\n",
      "[32] ratings: [8, 6, 8], meta review len: 65, decision: Accept (Spotlight)] Meta-learning Acquisition Functions For Transfer Learning In Bayesian Optimization by Michael Volpp, Lukas P. Fröhlich, Kirsten Fischer, Andreas Doerr, Stefan Falkner, Frank Hutter, Christian Daniel\n",
      "[33] ratings: [6, 6], meta review len: 85, decision: Accept (Poster)] Bounds On Over-parameterization For Guaranteed Existence Of Descent Paths In Shallow Relu Networks by Arsalan Sharifnassab, Saber Salehkaleybar, S. Jamaloddin Golestani\n",
      "[34] ratings: [6, 6, 6], meta review len: 176, decision: Reject] Reweighted Proximal Pruning For Large-scale Language Representation by Fu-ming Guo, Sijia Liu, Finlay S. Mungall, Xue Lin, Yanzhi Wang\n",
      "[35] ratings: [6, 3, 3], meta review len: 67, decision: Reject] Measuring Causal Influence With Back-to-back Regression: The Linear Case by Jean-remi King, Francois Charton, Maxime Oquab, David Lopez-paz\n",
      "[36] ratings: [1, 1, 1], meta review len: 0] Bridging Elbo Objective And Mmd by Talip Ucar (withdrawn)\n",
      "[37] ratings: [1, 3, 3], meta review len: 90, decision: Reject] Policy Optimization In The Face Of Uncertainty by Tung-long Vuong, Han Nguyen, Hai Pham, Kenneth Tran\n",
      "[38] ratings: [1, 1], meta review len: 0] Graphflow: Exploiting Conversation Flow With Graph Neural Networks For Conversational Machine Comprehension by Yu Chen, Lingfei Wu, Mohammed J. Zaki (withdrawn)\n",
      "[39] ratings: [3, 6, 6], meta review len: 37, decision: Accept (Poster)] Deep 3d Pan Via Local Adaptive \"t-shaped\" Convolutions With Global And Local Adaptive Dilations by Juan Luis Gonzalez Bello, Munchurl Kim\n",
      "[40] ratings: [3, 3, 3], meta review len: 106, decision: Reject] Semi-supervised Semantic Segmentation Using Auxiliary Network by Wei-hsu Chen, Hsueh-ming Hang\n",
      "[41] ratings: [3, 3, 6], meta review len: 226, decision: Reject] Winning The Lottery With Continuous Sparsification by Pedro Savarese, Hugo Silva, Michael Maire\n",
      "[42] ratings: [3, 3, 6], meta review len: 45, decision: Reject] Stiffness: A New Perspective On Generalization In Neural Networks by Stanislav Fort, Paweł Krzysztof Nowak, Stanisław Jastrzebski, Srini Narayanan\n",
      "[43] ratings: [6, 6, 6], meta review len: 112, decision: Accept (Poster)] Beyond Linearization: On Quadratic And Higher-order Approximation Of Wide Neural Networks by Yu Bai, Jason D. Lee\n",
      "[44] ratings: [3, 3, 3], meta review len: 19, decision: Reject] Relative Pixel Prediction For Autoregressive Image Generation by Wang Ling, Chris Dyer, Lei Yu, Lingpeng Kong, Dani Yogatama, Susannah Young\n"
     ]
    },
    {
     "name": "stdout",
     "output_type": "stream",
     "text": [
      "[45] ratings: [1, 1, 1], meta review len: 111, decision: Reject] Adaptive Data Augmentation With Deep Parallel Generative Models by Boli Fang, Miao Jiang, Abhirag Nagpure, Jerry Shen\n",
      "[46] ratings: [1, 3, 3], meta review len: 48, decision: Reject] Dual Graph Representation Learning by Huiling Zhu, Xin Luo, Hankz Hankui Zhuo\n",
      "[47] ratings: [3, 3, 1], meta review len: 90, decision: Reject] Concise Multi-head Attention Models by Srinadh Bhojanapalli, Chulhee Yun, Ankit Singh Rawat, Sashank Reddi, Sanjiv Kumar\n",
      "[48] ratings: [6, 6, 6], meta review len: 133, decision: Accept (Poster)] Pruned Graph Scattering Transforms by Vassilis N. Ioannidis, Siheng Chen, Georgios B. Giannakis\n",
      "[49] ratings: [8, 6, 6], meta review len: 85, decision: Accept (Poster)] Consistency Regularization For Generative Adversarial Networks by Han Zhang, Zizhao Zhang, Augustus Odena, Honglak Lee\n",
      "[50] ratings: [6, 6, 8], meta review len: 50, decision: Accept (Spotlight)] Making Sense Of Reinforcement Learning And Probabilistic Inference by Brendan O'donoghue, Ian Osband, Catalin Ionescu\n",
      "[51] ratings: [1, 3, 8], meta review len: 149, decision: Reject] Highres-net: Multi-frame Super-resolution By Recursive Fusion by Michel Deudon, Alfredo Kalaitzis, Md Rifat Arefin, Israel Goytom, Zhichao Lin, Kris Sankaran, Vincent Michalski, Samira E Kahou, Julien Cornebise, Yoshua Bengio\n",
      "[52] ratings: [3, 3, 8, 6], meta review len: 68, decision: Reject] Utilizing Edge Features In Graph Neural Networks Via Variational Information Maximization by Pengfei Chen, Weiwen Liu, Chang-yu Hsieh, Guangyong Chen, Pheng Ann Heng\n",
      "[53] ratings: [3, 1, 6], meta review len: 0] Rat-sql: Relation-aware Schema Encoding And Linking For Text-to-sql Parsers by Bailin Wang*, Richard Shin*, Xiaodong Liu, Oleksandr Polozov, Matthew Richardson (withdrawn)\n",
      "[54] ratings: [1, 1, 1], meta review len: 90, decision: Reject] Amharic Text Normalization With Sequence-to-sequence Models by Seifedin Shifaw Mohamed, Solomon Teferra Abate (phd)\n",
      "[55] ratings: [3, 6, 3], meta review len: 72, decision: Reject] Gross Decomposition: Group-size Series Decomposition For Whole Search-space Training by Henry Howard-jenkins, Yiwen Li, Victor Adrian Prisacariu\n",
      "[56] ratings: [3, 3, 3], meta review len: 88, decision: Reject] Robust Domain Randomization For Reinforcement Learning by Reda Bahi Slaoui, William R. Clements, Jakob N. Foerster, Sébastien Toth\n",
      "[57] ratings: [3, 1, 8], meta review len: 420, decision: Reject] Bias-resilient Neural Network by Ehsan Adeli, Qingyu Zhao, Adolf Pfefferbaum, Edith V. Sullivan, Fei-fei Li, Juan Carlos Niebles, Kilian M. Pohl\n",
      "[58] ratings: [3, 8, 6], meta review len: 28, decision: Accept (Poster)] Convergence Of Gradient Methods On Bilinear Zero-sum Games by Guojun Zhang, Yaoliang Yu\n",
      "[59] ratings: [6, 6, 1, 3], meta review len: 156, decision: Reject] Identifying Weights And Architectures Of Unknown Relu Networks by David Rolnick, Konrad P. Kording\n",
      "[60] ratings: [6, 6, 6], meta review len: 108, decision: Accept (Poster)] Demystifying Inter-class Disentanglement by Aviv Gabbay, Yedid Hoshen\n",
      "[61] ratings: [6, 6, 1], meta review len: 415, decision: Reject] Benchmarking Model-based Reinforcement Learning by Tingwu Wang, Xuchan Bao, Ignasi Clavera, Jerrick Hoang, Yeming Wen, Eric Langlois, Shunshi Zhang, Guodong Zhang, Pieter Abbeel, Jimmy Ba\n",
      "[62] ratings: [3, 6, 3], meta review len: 149, decision: Reject] When Covariate-shifted Data Augmentation Increases Test Error And How To Fix It by Sang Michael Xie*, Aditi Raghunathan*, Fanny Yang, John C. Duchi, Percy Liang\n",
      "[63] ratings: [3, 3, 3], meta review len: 112, decision: Reject] Quantized Reinforcement Learning (quarl) by Srivatsan Krishnan, Sharad Chitlangia, Maximilian Lam, Zishen Wan, Aleksandra Faust, Vijay Janapa Reddi\n",
      "[64] ratings: [6, 6, 6], meta review len: 83, decision: Reject] Manifold Learning And Alignment With Generative Adversarial Networks by Jiseob Kim, Seungjae Jung, Hyundo Lee, Byoung-tak Zhang\n",
      "[65] ratings: [8, 3, 3], meta review len: 69, decision: Accept (Poster)] Logic And The 2-simplicial Transformer by James Clift, Dmitry Doryn, Daniel Murfet, James Wallbridge\n",
      "[66] ratings: [6, 3, 3], meta review len: 127, decision: Reject] Growing Action Spaces by Gregory Farquhar, Laura Gustafson, Zeming Lin, Shimon Whiteson, Nicolas Usunier, Gabriel Synnaeve\n",
      "[67] ratings: [6, 6], meta review len: 107, decision: Accept (Poster)] On Bonus Based Exploration Methods In The Arcade Learning Environment by Adrien Ali Taiga, William Fedus, Marlos C. Machado, Aaron Courville, Marc G. Bellemare\n",
      "[68] ratings: [1, 8, 3], meta review len: 56, decision: Reject] Reinforcement Learning With Structured Hierarchical Grammar Representations Of Actions by Petros Christodoulou, Robert Lange, Ali Shafti, A. Aldo Faisal\n",
      "[69] ratings: [6, 3, 6], meta review len: 469, decision: Accept (Poster)] Improving Neural Language Generation With Spectrum Control by Lingxiao Wang, Jing Huang, Kevin Huang, Ziniu Hu, Guangtao Wang, Quanquan Gu\n",
      "[70] ratings: [6, 6, 3], meta review len: 90, decision: Accept (Poster)] Batchensemble: An Alternative Approach To Efficient Ensemble And Lifelong Learning by Yeming Wen, Dustin Tran, Jimmy Ba\n",
      "[71] ratings: [8, 6, 6, 8], meta review len: 86, decision: Accept (Spotlight)] Dream To Control: Learning Behaviors By Latent Imagination by Danijar Hafner, Timothy Lillicrap, Jimmy Ba, Mohammad Norouzi\n",
      "[72] ratings: [6, 6, 6], meta review len: 72, decision: Accept (Poster)] Compositional Languages Emerge In A Neural Iterated Learning Model by Yi Ren, Shangmin Guo, Matthieu Labeau, Shay B. Cohen, Simon Kirby\n",
      "[73] ratings: [3, 1, 1], meta review len: 39, decision: Reject] Selective Sampling For Accelerating Training Of Deep Neural Networks by Berry Weinstein, Shai Fine, Yacov Hel-or\n",
      "[74] ratings: [1, 6, 1], meta review len: 0] On Solving Cooperative Decentralized Marl Problems With Sparse Reinforcements by Rajiv Ranjan Kumar, Pradeep Varakantham (withdrawn)\n",
      "[75] ratings: [], meta review len: 0] Combiner: Inductively Learning Tree Structured Attention In Transformers by Jiawei Wu, Chenyan Xiong, Tobias Schnabel, Yizhe Zhang, William Yang Wang, Paul Bennett (withdrawn)\n",
      "[76] ratings: [1, 3, 1], meta review len: 176, decision: Reject] The Generalization-stability Tradeoff In Neural Network Pruning by Brian R. Bartoldson, Ari S. Morcos, Adrian Barbu, Gordon Erlebacher\n",
      "[77] ratings: [3, 3, 3], meta review len: 0] Elastic-infogan: Unsupervised Disentangled Representation Learning In Imbalanced Data by Utkarsh Ojha, Krishna Kumar Singh, Cho-jui Hsieh, Yong Jae Lee (withdrawn)\n"
     ]
    }
   ],
   "source": [
    "# Get the meta data\n",
    "if CRAWL_DATA:\n",
    "    \n",
    "    # Uncomment this if you want to crawl data from scratch\n",
    "    meta_list = crawl_meta(\n",
    "        meta_hdf5=None, \n",
    "        write_meta_name='data_{}.hdf5'.format(time.strftime(\"%Y%m%d%H%M%S\")), \n",
    "        crawl_review=CRAWL_REVIEW)\n",
    "    datatime = time.strftime(\n",
    "        '%m/%d/%Y %I:%M:%S %p', time.strftime(\"%Y%m%d%H%M%S\"))\n",
    "else:\n",
    "    # Uncomment this if you want to load the previously stored data file\n",
    "    meta_hdf5s = glob.glob(\"*.hdf5\")\n",
    "    meta_hdf5 = sorted(meta_hdf5s)[-1] # the most recent data\n",
    "    print(\"Loading {} ...\".format(meta_hdf5))\n",
    "    meta_list = crawl_meta(meta_hdf5=meta_hdf5)\n",
    "    datatime = time.strftime(\n",
    "        '%m/%d/%Y %I:%M:%S %p', \n",
    "        time.strptime(meta_hdf5.split('_')[-1].split('.')[0], '%Y%m%d%H%M%S'))    \n",
    "print(datatime)    \n",
    "num_withdrawn = len([m for m in meta_list if m.withdrawn or m.desk_reject])\n",
    "print('Number of submissions: {} (withdrawn/desk reject submissions: {})'.format(\n",
    "    len(meta_list), num_withdrawn))"
   ]
  },
  {
   "cell_type": "code",
   "execution_count": null,
   "metadata": {},
   "outputs": [],
   "source": []
  }
 ],
 "metadata": {
  "kernelspec": {
   "display_name": "Python 3",
   "language": "python",
   "name": "python3"
  },
  "language_info": {
   "codemirror_mode": {
    "name": "ipython",
    "version": 3
   },
   "file_extension": ".py",
   "mimetype": "text/x-python",
   "name": "python",
   "nbconvert_exporter": "python",
   "pygments_lexer": "ipython3",
   "version": "3.7.7"
  }
 },
 "nbformat": 4,
 "nbformat_minor": 4
}
