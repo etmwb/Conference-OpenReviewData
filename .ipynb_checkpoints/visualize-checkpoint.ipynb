{
 "cells": [
  {
   "cell_type": "code",
   "execution_count": 4,
   "metadata": {},
   "outputs": [],
   "source": [
    "import numpy as np\n",
    "import h5py\n",
    "import string\n",
    "import matplotlib.pyplot as plt \n",
    "import seaborn as sns\n",
    "import pandas as pd\n",
    "import time\n",
    "import glob\n",
    "from utils import crawl_meta, PaperMeta, Keyword\n",
    "%matplotlib inline"
   ]
  },
  {
   "cell_type": "code",
   "execution_count": 5,
   "metadata": {},
   "outputs": [],
   "source": [
    "CRAWL_DATA = True\n",
    "AFTER_DECISION = True\n",
    "CRAWL_REVIEW = False\n",
    "OLD_RATING = False"
   ]
  },
  {
   "cell_type": "code",
   "execution_count": 6,
   "metadata": {},
   "outputs": [
    {
     "ename": "IndexError",
     "evalue": "list index out of range",
     "output_type": "error",
     "traceback": [
      "\u001b[0;31m---------------------------------------------------------------------------\u001b[0m",
      "\u001b[0;31mIndexError\u001b[0m                                Traceback (most recent call last)",
      "\u001b[0;32m<ipython-input-6-a79d677f3974>\u001b[0m in \u001b[0;36m<module>\u001b[0;34m\u001b[0m\n\u001b[1;32m     12\u001b[0m     \u001b[0;31m# Uncomment this if you want to load the previously stored data file\u001b[0m\u001b[0;34m\u001b[0m\u001b[0;34m\u001b[0m\u001b[0;34m\u001b[0m\u001b[0m\n\u001b[1;32m     13\u001b[0m     \u001b[0mmeta_hdf5s\u001b[0m \u001b[0;34m=\u001b[0m \u001b[0mglob\u001b[0m\u001b[0;34m.\u001b[0m\u001b[0mglob\u001b[0m\u001b[0;34m(\u001b[0m\u001b[0;34m\"*.hdf5\"\u001b[0m\u001b[0;34m)\u001b[0m\u001b[0;34m\u001b[0m\u001b[0;34m\u001b[0m\u001b[0m\n\u001b[0;32m---> 14\u001b[0;31m     \u001b[0mmeta_hdf5\u001b[0m \u001b[0;34m=\u001b[0m \u001b[0msorted\u001b[0m\u001b[0;34m(\u001b[0m\u001b[0mmeta_hdf5s\u001b[0m\u001b[0;34m)\u001b[0m\u001b[0;34m[\u001b[0m\u001b[0;34m-\u001b[0m\u001b[0;36m1\u001b[0m\u001b[0;34m]\u001b[0m \u001b[0;31m# the most recent data\u001b[0m\u001b[0;34m\u001b[0m\u001b[0;34m\u001b[0m\u001b[0m\n\u001b[0m\u001b[1;32m     15\u001b[0m     \u001b[0mprint\u001b[0m\u001b[0;34m(\u001b[0m\u001b[0;34m\"Loading {} ...\"\u001b[0m\u001b[0;34m.\u001b[0m\u001b[0mformat\u001b[0m\u001b[0;34m(\u001b[0m\u001b[0mmeta_hdf5\u001b[0m\u001b[0;34m)\u001b[0m\u001b[0;34m)\u001b[0m\u001b[0;34m\u001b[0m\u001b[0;34m\u001b[0m\u001b[0m\n\u001b[1;32m     16\u001b[0m     \u001b[0mmeta_list\u001b[0m \u001b[0;34m=\u001b[0m \u001b[0mcrawl_meta\u001b[0m\u001b[0;34m(\u001b[0m\u001b[0mmeta_hdf5\u001b[0m\u001b[0;34m=\u001b[0m\u001b[0mmeta_hdf5\u001b[0m\u001b[0;34m)\u001b[0m\u001b[0;34m\u001b[0m\u001b[0;34m\u001b[0m\u001b[0m\n",
      "\u001b[0;31mIndexError\u001b[0m: list index out of range"
     ]
    }
   ],
   "source": [
    "# Get the meta data\n",
    "if CRAWL_DATA:\n",
    "    \n",
    "    # Uncomment this if you want to crawl data from scratch\n",
    "    meta_list = crawl_meta(\n",
    "        meta_hdf5=None, \n",
    "        write_meta_name='data_{}.hdf5'.format(time.strftime(\"%Y%m%d%H%M%S\")), \n",
    "        crawl_review=CRAWL_REVIEW)\n",
    "    datatime = time.strftime(\n",
    "        '%m/%d/%Y %I:%M:%S %p', time.strftime(\"%Y%m%d%H%M%S\"))\n",
    "else:\n",
    "    # Uncomment this if you want to load the previously stored data file\n",
    "    meta_hdf5s = glob.glob(\"*.hdf5\")\n",
    "    meta_hdf5 = sorted(meta_hdf5s)[-1] # the most recent data\n",
    "    print(\"Loading {} ...\".format(meta_hdf5))\n",
    "    meta_list = crawl_meta(meta_hdf5=meta_hdf5)\n",
    "    datatime = time.strftime(\n",
    "        '%m/%d/%Y %I:%M:%S %p', \n",
    "        time.strptime(meta_hdf5.split('_')[-1].split('.')[0], '%Y%m%d%H%M%S'))    \n",
    "print(datatime)    \n",
    "num_withdrawn = len([m for m in meta_list if m.withdrawn or m.desk_reject])\n",
    "print('Number of submissions: {} (withdrawn/desk reject submissions: {})'.format(\n",
    "    len(meta_list), num_withdrawn))"
   ]
  },
  {
   "cell_type": "code",
   "execution_count": null,
   "metadata": {},
   "outputs": [],
   "source": []
  }
 ],
 "metadata": {
  "kernelspec": {
   "display_name": "Python 3",
   "language": "python",
   "name": "python3"
  },
  "language_info": {
   "codemirror_mode": {
    "name": "ipython",
    "version": 3
   },
   "file_extension": ".py",
   "mimetype": "text/x-python",
   "name": "python",
   "nbconvert_exporter": "python",
   "pygments_lexer": "ipython3",
   "version": "3.7.7"
  }
 },
 "nbformat": 4,
 "nbformat_minor": 4
}
